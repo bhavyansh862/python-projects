{
 "cells": [
  {
   "cell_type": "code",
   "execution_count": 16,
   "id": "3158f6cd-4826-408f-90c9-a8d92a61cd70",
   "metadata": {},
   "outputs": [
    {
     "name": "stdout",
     "output_type": "stream",
     "text": [
      "✅ Message sent. SID: SMeeb8f0538bae89e5cfd4b8ae84b71bed\n"
     ]
    }
   ],
   "source": [
    "from twilio.rest import Client\n",
    "\n",
    "# Replace these with your actual Twilio credentials\n",
    "TWILIO_SID = 'AC912b677fe476b1d34346808de4eb9e1d'\n",
    "TWILIO_AUTH_TOKEN = 'c3892469098e8f8ffd599d224c35c8ee'\n",
    "TWILIO_WHATSAPP_NUMBER = 'whatsapp:+16282824676'  # Twilio sandbox number\n",
    "\n",
    "# Recipient's number with WhatsApp prefix\n",
    "TO_NUMBER = 'whatsapp:+9529290881'  # Replace with real WhatsApp number\n",
    "\n",
    "client = Client(\"AC912b677fe476b1d34346808de4eb9e1d\", \"c3892469098e8f8ffd599d224c35c8ee\")\n",
    "\n",
    "# Send message\n",
    "message = client.messages.create(\n",
    "    from_= +16282824676,\n",
    "    to= +919529290881,\n",
    "    body='Hello! This is a WhatsApp message sent via Twilio + Python 🚀'\n",
    ")\n",
    "\n",
    "print(\"✅ Message sent. SID:\", message.sid)\n"
   ]
  },
  {
   "cell_type": "code",
   "execution_count": null,
   "id": "23565bd9-5852-4322-9257-520b4f7a0b95",
   "metadata": {},
   "outputs": [],
   "source": []
  }
 ],
 "metadata": {
  "kernelspec": {
   "display_name": "Python 3 (ipykernel)",
   "language": "python",
   "name": "python3"
  },
  "language_info": {
   "codemirror_mode": {
    "name": "ipython",
    "version": 3
   },
   "file_extension": ".py",
   "mimetype": "text/x-python",
   "name": "python",
   "nbconvert_exporter": "python",
   "pygments_lexer": "ipython3",
   "version": "3.13.5"
  }
 },
 "nbformat": 4,
 "nbformat_minor": 5
}
