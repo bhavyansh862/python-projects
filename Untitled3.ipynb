{
 "cells": [
  {
   "cell_type": "code",
   "execution_count": 3,
   "id": "c9db6c69-00b0-467e-b534-bf19c59dd3a5",
   "metadata": {},
   "outputs": [
    {
     "ename": "NoSuchWindowException",
     "evalue": "Message: no such window: target window already closed\nfrom unknown error: web view not found\n  (Session info: chrome=138.0.7204.101)\nStacktrace:\n\tGetHandleVerifier [0x0x7ff63cc9e925+77845]\n\tGetHandleVerifier [0x0x7ff63cc9e980+77936]\n\t(No symbol) [0x0x7ff63ca59cda]\n\t(No symbol) [0x0x7ff63ca321a1]\n\t(No symbol) [0x0x7ff63cadfc6e]\n\t(No symbol) [0x0x7ff63cb00432]\n\t(No symbol) [0x0x7ff63cad86a3]\n\t(No symbol) [0x0x7ff63caa1791]\n\t(No symbol) [0x0x7ff63caa2523]\n\tGetHandleVerifier [0x0x7ff63cf7683d+3059501]\n\tGetHandleVerifier [0x0x7ff63cf70bfd+3035885]\n\tGetHandleVerifier [0x0x7ff63cf903f0+3164896]\n\tGetHandleVerifier [0x0x7ff63ccb8c2e+185118]\n\tGetHandleVerifier [0x0x7ff63ccc053f+216111]\n\tGetHandleVerifier [0x0x7ff63cca72d4+113092]\n\tGetHandleVerifier [0x0x7ff63cca7489+113529]\n\tGetHandleVerifier [0x0x7ff63cc8e288+10616]\n\tBaseThreadInitThunk [0x0x7ff88d7ce8d7+23]\n\tRtlUserThreadStart [0x0x7ff88ee1c34c+44]\n",
     "output_type": "error",
     "traceback": [
      "\u001b[31m---------------------------------------------------------------------------\u001b[39m",
      "\u001b[31mNoSuchWindowException\u001b[39m                     Traceback (most recent call last)",
      "\u001b[36mCell\u001b[39m\u001b[36m \u001b[39m\u001b[32mIn[3]\u001b[39m\u001b[32m, line 17\u001b[39m\n\u001b[32m     14\u001b[39m driver.get(\u001b[33m\"\u001b[39m\u001b[33mhttps://www.linkedin.com/login\u001b[39m\u001b[33m\"\u001b[39m)\n\u001b[32m     16\u001b[39m \u001b[38;5;66;03m# Login\u001b[39;00m\n\u001b[32m---> \u001b[39m\u001b[32m17\u001b[39m \u001b[43mdriver\u001b[49m\u001b[43m.\u001b[49m\u001b[43mfind_element\u001b[49m\u001b[43m(\u001b[49m\u001b[43mBy\u001b[49m\u001b[43m.\u001b[49m\u001b[43mID\u001b[49m\u001b[43m,\u001b[49m\u001b[43m \u001b[49m\u001b[33;43m\"\u001b[39;49m\u001b[33;43mbijjur088@gmail.com\u001b[39;49m\u001b[33;43m\"\u001b[39;49m\u001b[43m)\u001b[49m.send_keys(EMAIL)\n\u001b[32m     18\u001b[39m driver.find_element(By.ID, \u001b[33m\"\u001b[39m\u001b[33mprabhuprabhu\u001b[39m\u001b[33m\"\u001b[39m).send_keys(PASSWORD)\n\u001b[32m     19\u001b[39m driver.find_element(By.TAG_NAME, \u001b[33m\"\u001b[39m\u001b[33mbutton\u001b[39m\u001b[33m\"\u001b[39m).click()\n",
      "\u001b[36mFile \u001b[39m\u001b[32m~\\AppData\\Roaming\\Python\\Python313\\site-packages\\selenium\\webdriver\\remote\\webdriver.py:922\u001b[39m, in \u001b[36mWebDriver.find_element\u001b[39m\u001b[34m(self, by, value)\u001b[39m\n\u001b[32m    919\u001b[39m         \u001b[38;5;28;01mraise\u001b[39;00m NoSuchElementException(\u001b[33mf\u001b[39m\u001b[33m\"\u001b[39m\u001b[33mCannot locate relative element with: \u001b[39m\u001b[38;5;132;01m{\u001b[39;00mby.root\u001b[38;5;132;01m}\u001b[39;00m\u001b[33m\"\u001b[39m)\n\u001b[32m    920\u001b[39m     \u001b[38;5;28;01mreturn\u001b[39;00m elements[\u001b[32m0\u001b[39m]\n\u001b[32m--> \u001b[39m\u001b[32m922\u001b[39m \u001b[38;5;28;01mreturn\u001b[39;00m \u001b[38;5;28;43mself\u001b[39;49m\u001b[43m.\u001b[49m\u001b[43mexecute\u001b[49m\u001b[43m(\u001b[49m\u001b[43mCommand\u001b[49m\u001b[43m.\u001b[49m\u001b[43mFIND_ELEMENT\u001b[49m\u001b[43m,\u001b[49m\u001b[43m \u001b[49m\u001b[43m{\u001b[49m\u001b[33;43m\"\u001b[39;49m\u001b[33;43musing\u001b[39;49m\u001b[33;43m\"\u001b[39;49m\u001b[43m:\u001b[49m\u001b[43m \u001b[49m\u001b[43mby\u001b[49m\u001b[43m,\u001b[49m\u001b[43m \u001b[49m\u001b[33;43m\"\u001b[39;49m\u001b[33;43mvalue\u001b[39;49m\u001b[33;43m\"\u001b[39;49m\u001b[43m:\u001b[49m\u001b[43m \u001b[49m\u001b[43mvalue\u001b[49m\u001b[43m}\u001b[49m\u001b[43m)\u001b[49m[\u001b[33m\"\u001b[39m\u001b[33mvalue\u001b[39m\u001b[33m\"\u001b[39m]\n",
      "\u001b[36mFile \u001b[39m\u001b[32m~\\AppData\\Roaming\\Python\\Python313\\site-packages\\selenium\\webdriver\\remote\\webdriver.py:454\u001b[39m, in \u001b[36mWebDriver.execute\u001b[39m\u001b[34m(self, driver_command, params)\u001b[39m\n\u001b[32m    451\u001b[39m response = cast(RemoteConnection, \u001b[38;5;28mself\u001b[39m.command_executor).execute(driver_command, params)\n\u001b[32m    453\u001b[39m \u001b[38;5;28;01mif\u001b[39;00m response:\n\u001b[32m--> \u001b[39m\u001b[32m454\u001b[39m     \u001b[38;5;28;43mself\u001b[39;49m\u001b[43m.\u001b[49m\u001b[43merror_handler\u001b[49m\u001b[43m.\u001b[49m\u001b[43mcheck_response\u001b[49m\u001b[43m(\u001b[49m\u001b[43mresponse\u001b[49m\u001b[43m)\u001b[49m\n\u001b[32m    455\u001b[39m     response[\u001b[33m\"\u001b[39m\u001b[33mvalue\u001b[39m\u001b[33m\"\u001b[39m] = \u001b[38;5;28mself\u001b[39m._unwrap_value(response.get(\u001b[33m\"\u001b[39m\u001b[33mvalue\u001b[39m\u001b[33m\"\u001b[39m, \u001b[38;5;28;01mNone\u001b[39;00m))\n\u001b[32m    456\u001b[39m     \u001b[38;5;28;01mreturn\u001b[39;00m response\n",
      "\u001b[36mFile \u001b[39m\u001b[32m~\\AppData\\Roaming\\Python\\Python313\\site-packages\\selenium\\webdriver\\remote\\errorhandler.py:232\u001b[39m, in \u001b[36mErrorHandler.check_response\u001b[39m\u001b[34m(self, response)\u001b[39m\n\u001b[32m    230\u001b[39m         alert_text = value[\u001b[33m\"\u001b[39m\u001b[33malert\u001b[39m\u001b[33m\"\u001b[39m].get(\u001b[33m\"\u001b[39m\u001b[33mtext\u001b[39m\u001b[33m\"\u001b[39m)\n\u001b[32m    231\u001b[39m     \u001b[38;5;28;01mraise\u001b[39;00m exception_class(message, screen, stacktrace, alert_text)  \u001b[38;5;66;03m# type: ignore[call-arg]  # mypy is not smart enough here\u001b[39;00m\n\u001b[32m--> \u001b[39m\u001b[32m232\u001b[39m \u001b[38;5;28;01mraise\u001b[39;00m exception_class(message, screen, stacktrace)\n",
      "\u001b[31mNoSuchWindowException\u001b[39m: Message: no such window: target window already closed\nfrom unknown error: web view not found\n  (Session info: chrome=138.0.7204.101)\nStacktrace:\n\tGetHandleVerifier [0x0x7ff63cc9e925+77845]\n\tGetHandleVerifier [0x0x7ff63cc9e980+77936]\n\t(No symbol) [0x0x7ff63ca59cda]\n\t(No symbol) [0x0x7ff63ca321a1]\n\t(No symbol) [0x0x7ff63cadfc6e]\n\t(No symbol) [0x0x7ff63cb00432]\n\t(No symbol) [0x0x7ff63cad86a3]\n\t(No symbol) [0x0x7ff63caa1791]\n\t(No symbol) [0x0x7ff63caa2523]\n\tGetHandleVerifier [0x0x7ff63cf7683d+3059501]\n\tGetHandleVerifier [0x0x7ff63cf70bfd+3035885]\n\tGetHandleVerifier [0x0x7ff63cf903f0+3164896]\n\tGetHandleVerifier [0x0x7ff63ccb8c2e+185118]\n\tGetHandleVerifier [0x0x7ff63ccc053f+216111]\n\tGetHandleVerifier [0x0x7ff63cca72d4+113092]\n\tGetHandleVerifier [0x0x7ff63cca7489+113529]\n\tGetHandleVerifier [0x0x7ff63cc8e288+10616]\n\tBaseThreadInitThunk [0x0x7ff88d7ce8d7+23]\n\tRtlUserThreadStart [0x0x7ff88ee1c34c+44]\n"
     ]
    }
   ],
   "source": [
    "from selenium import webdriver\n",
    "from selenium.webdriver.common.by import By\n",
    "from selenium.webdriver.common.keys import Keys\n",
    "import time\n",
    "\n",
    "# Your LinkedIn credentials\n",
    "EMAIL = \"bijjur088@gmail.com\"\n",
    "PASSWORD = \"prabhuprabhu\"\n",
    "RECEIVER_PROFILE_URL = \"www.linkedin.com/in/bhavyansh-lakhara-484a72303\"\n",
    "MESSAGE = \"Hi! Just wanted to say hello via Python 🤖\"\n",
    "\n",
    "# Setup\n",
    "driver = webdriver.Chrome()\n",
    "driver.get(\"https://www.linkedin.com/login\")\n",
    "\n",
    "# Login\n",
    "driver.find_element(By.ID, \"bijjur088@gmail.com\").send_keys(EMAIL)\n",
    "driver.find_element(By.ID, \"prabhuprabhu\").send_keys(PASSWORD)\n",
    "driver.find_element(By.TAG_NAME, \"button\").click()\n",
    "time.sleep(5)\n",
    "\n",
    "# Navigate to profile\n",
    "driver.get(\"https://www.linkedin.com/in/bhavyansh-lakhara-484a72303\")\n",
    "time.sleep(5)\n",
    "\n",
    "# Click on message button\n",
    "message_button = driver.find_element(By.CLASS_NAME, 'message-anywhere-button')\n",
    "message_button.click()\n",
    "time.sleep(3)\n",
    "\n",
    "# Type and send message\n",
    "msg_box = driver.find_element(By.CSS_SELECTOR, 'div.msg-form__contenteditable')\n",
    "msg_box.send_keys(MESSAGE)\n",
    "msg_box.send_keys(Keys.RETURN)\n",
    "\n",
    "print(\"✅ Message sent!\")\n",
    "driver.quit()\n"
   ]
  },
  {
   "cell_type": "code",
   "execution_count": null,
   "id": "eaadd669-dfa0-4631-8f44-631f2d14ecc1",
   "metadata": {},
   "outputs": [],
   "source": []
  }
 ],
 "metadata": {
  "kernelspec": {
   "display_name": "Python 3 (ipykernel)",
   "language": "python",
   "name": "python3"
  },
  "language_info": {
   "codemirror_mode": {
    "name": "ipython",
    "version": 3
   },
   "file_extension": ".py",
   "mimetype": "text/x-python",
   "name": "python",
   "nbconvert_exporter": "python",
   "pygments_lexer": "ipython3",
   "version": "3.13.5"
  }
 },
 "nbformat": 4,
 "nbformat_minor": 5
}
