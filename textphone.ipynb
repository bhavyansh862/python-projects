{
 "cells": [
  {
   "cell_type": "code",
   "execution_count": 1,
   "id": "b9237072-a8f3-4a62-b185-82f2341db61d",
   "metadata": {},
   "outputs": [
    {
     "ename": "ModuleNotFoundError",
     "evalue": "No module named 'twilio'",
     "output_type": "error",
     "traceback": [
      "\u001b[31m---------------------------------------------------------------------------\u001b[39m",
      "\u001b[31mModuleNotFoundError\u001b[39m                       Traceback (most recent call last)",
      "\u001b[36mCell\u001b[39m\u001b[36m \u001b[39m\u001b[32mIn[1]\u001b[39m\u001b[32m, line 1\u001b[39m\n\u001b[32m----> \u001b[39m\u001b[32m1\u001b[39m \u001b[38;5;28;01mfrom\u001b[39;00m\u001b[38;5;250m \u001b[39m\u001b[34;01mtwilio\u001b[39;00m\u001b[34;01m.\u001b[39;00m\u001b[34;01mrest\u001b[39;00m\u001b[38;5;250m \u001b[39m\u001b[38;5;28;01mimport\u001b[39;00m Client\n\u001b[32m      3\u001b[39m \u001b[38;5;66;03m# credentials \u001b[39;00m\n\u001b[32m      4\u001b[39m account_sid = \u001b[33m\"\u001b[39m\u001b[33myour_account_sid\u001b[39m\u001b[33m\"\u001b[39m\n",
      "\u001b[31mModuleNotFoundError\u001b[39m: No module named 'twilio'"
     ]
    }
   ],
   "source": [
    "from twilio.rest import Client\n",
    "\n",
    "# credentials \n",
    "account_sid = \"your_account_sid\"\n",
    "auth_token = \"your_auth_token\"\n",
    "twilio_phone_number = '+162xxxxxxx76'  # Your  number\n",
    "recipient_phone_number = '+9195xxxx881'  # Receiver's phone number (include country code)\n",
    "\n",
    "# Create client\n",
    "client = Client(account_sid, auth_token)\n",
    "\n",
    "# Send SMS\n",
    "message = client.messages.create(\n",
    "    body='Hello, this is a test message from Bhavyansh!',\n",
    "    from_=t_phone_number,\n",
    "    to=recipient_phone_number\n",
    ")\n",
    "\n",
    "print(f\"Message sent! SID: {message.sid}\")\n"
   ]
  },
  {
   "cell_type": "code",
   "execution_count": null,
   "id": "3fd14d2f-e3a6-41f2-a2be-1558392dc0e4",
   "metadata": {},
   "outputs": [],
   "source": []
  },
  {
   "cell_type": "code",
   "execution_count": null,
   "id": "887c7b12-f727-4c05-9af9-d69c843642ec",
   "metadata": {},
   "outputs": [],
   "source": []
  }
 ],
 "metadata": {
  "kernelspec": {
   "display_name": "Python 3 (ipykernel)",
   "language": "python",
   "name": "python3"
  },
  "language_info": {
   "codemirror_mode": {
    "name": "ipython",
    "version": 3
   },
   "file_extension": ".py",
   "mimetype": "text/x-python",
   "name": "python",
   "nbconvert_exporter": "python",
   "pygments_lexer": "ipython3",
   "version": "3.13.5"
  }
 },
 "nbformat": 4,
 "nbformat_minor": 5
}
