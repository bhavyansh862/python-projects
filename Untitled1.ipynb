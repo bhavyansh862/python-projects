{
 "cells": [
  {
   "cell_type": "code",
   "execution_count": 2,
   "id": "eb2bd3bd-bb1d-43da-a350-58ba4c6f8224",
   "metadata": {},
   "outputs": [
    {
     "ename": "NoSuchElementException",
     "evalue": "Message: no such element: Unable to locate element: {\"method\":\"css selector\",\"selector\":\"[name=\"text\"]\"}\n  (Session info: chrome=138.0.7204.101); For documentation on this error, please visit: https://www.selenium.dev/documentation/webdriver/troubleshooting/errors#nosuchelementexception\nStacktrace:\n\tGetHandleVerifier [0x0x7ff6d63ce925+77845]\n\tGetHandleVerifier [0x0x7ff6d63ce980+77936]\n\t(No symbol) [0x0x7ff6d6189cda]\n\t(No symbol) [0x0x7ff6d61e06aa]\n\t(No symbol) [0x0x7ff6d61e095c]\n\t(No symbol) [0x0x7ff6d6233d07]\n\t(No symbol) [0x0x7ff6d620890f]\n\t(No symbol) [0x0x7ff6d6230b07]\n\t(No symbol) [0x0x7ff6d62086a3]\n\t(No symbol) [0x0x7ff6d61d1791]\n\t(No symbol) [0x0x7ff6d61d2523]\n\tGetHandleVerifier [0x0x7ff6d66a683d+3059501]\n\tGetHandleVerifier [0x0x7ff6d66a0bfd+3035885]\n\tGetHandleVerifier [0x0x7ff6d66c03f0+3164896]\n\tGetHandleVerifier [0x0x7ff6d63e8c2e+185118]\n\tGetHandleVerifier [0x0x7ff6d63f053f+216111]\n\tGetHandleVerifier [0x0x7ff6d63d72d4+113092]\n\tGetHandleVerifier [0x0x7ff6d63d7489+113529]\n\tGetHandleVerifier [0x0x7ff6d63be288+10616]\n\tBaseThreadInitThunk [0x0x7ff88d7ce8d7+23]\n\tRtlUserThreadStart [0x0x7ff88ee1c34c+44]\n",
     "output_type": "error",
     "traceback": [
      "\u001b[31m---------------------------------------------------------------------------\u001b[39m",
      "\u001b[31mNoSuchElementException\u001b[39m                    Traceback (most recent call last)",
      "\u001b[36mCell\u001b[39m\u001b[36m \u001b[39m\u001b[32mIn[2]\u001b[39m\u001b[32m, line 20\u001b[39m\n\u001b[32m     17\u001b[39m time.sleep(\u001b[32m3\u001b[39m)\n\u001b[32m     19\u001b[39m \u001b[38;5;66;03m# Step 2: Fill in username\u001b[39;00m\n\u001b[32m---> \u001b[39m\u001b[32m20\u001b[39m user_field = \u001b[43mdriver\u001b[49m\u001b[43m.\u001b[49m\u001b[43mfind_element\u001b[49m\u001b[43m(\u001b[49m\u001b[43mBy\u001b[49m\u001b[43m.\u001b[49m\u001b[43mNAME\u001b[49m\u001b[43m,\u001b[49m\u001b[43m \u001b[49m\u001b[33;43m'\u001b[39;49m\u001b[33;43mtext\u001b[39;49m\u001b[33;43m'\u001b[39;49m\u001b[43m)\u001b[49m\n\u001b[32m     21\u001b[39m user_field.send_keys(username)\n\u001b[32m     22\u001b[39m user_field.send_keys(Keys.RETURN)\n",
      "\u001b[36mFile \u001b[39m\u001b[32m~\\AppData\\Roaming\\Python\\Python313\\site-packages\\selenium\\webdriver\\remote\\webdriver.py:922\u001b[39m, in \u001b[36mWebDriver.find_element\u001b[39m\u001b[34m(self, by, value)\u001b[39m\n\u001b[32m    919\u001b[39m         \u001b[38;5;28;01mraise\u001b[39;00m NoSuchElementException(\u001b[33mf\u001b[39m\u001b[33m\"\u001b[39m\u001b[33mCannot locate relative element with: \u001b[39m\u001b[38;5;132;01m{\u001b[39;00mby.root\u001b[38;5;132;01m}\u001b[39;00m\u001b[33m\"\u001b[39m)\n\u001b[32m    920\u001b[39m     \u001b[38;5;28;01mreturn\u001b[39;00m elements[\u001b[32m0\u001b[39m]\n\u001b[32m--> \u001b[39m\u001b[32m922\u001b[39m \u001b[38;5;28;01mreturn\u001b[39;00m \u001b[38;5;28;43mself\u001b[39;49m\u001b[43m.\u001b[49m\u001b[43mexecute\u001b[49m\u001b[43m(\u001b[49m\u001b[43mCommand\u001b[49m\u001b[43m.\u001b[49m\u001b[43mFIND_ELEMENT\u001b[49m\u001b[43m,\u001b[49m\u001b[43m \u001b[49m\u001b[43m{\u001b[49m\u001b[33;43m\"\u001b[39;49m\u001b[33;43musing\u001b[39;49m\u001b[33;43m\"\u001b[39;49m\u001b[43m:\u001b[49m\u001b[43m \u001b[49m\u001b[43mby\u001b[49m\u001b[43m,\u001b[49m\u001b[43m \u001b[49m\u001b[33;43m\"\u001b[39;49m\u001b[33;43mvalue\u001b[39;49m\u001b[33;43m\"\u001b[39;49m\u001b[43m:\u001b[49m\u001b[43m \u001b[49m\u001b[43mvalue\u001b[49m\u001b[43m}\u001b[49m\u001b[43m)\u001b[49m[\u001b[33m\"\u001b[39m\u001b[33mvalue\u001b[39m\u001b[33m\"\u001b[39m]\n",
      "\u001b[36mFile \u001b[39m\u001b[32m~\\AppData\\Roaming\\Python\\Python313\\site-packages\\selenium\\webdriver\\remote\\webdriver.py:454\u001b[39m, in \u001b[36mWebDriver.execute\u001b[39m\u001b[34m(self, driver_command, params)\u001b[39m\n\u001b[32m    451\u001b[39m response = cast(RemoteConnection, \u001b[38;5;28mself\u001b[39m.command_executor).execute(driver_command, params)\n\u001b[32m    453\u001b[39m \u001b[38;5;28;01mif\u001b[39;00m response:\n\u001b[32m--> \u001b[39m\u001b[32m454\u001b[39m     \u001b[38;5;28;43mself\u001b[39;49m\u001b[43m.\u001b[49m\u001b[43merror_handler\u001b[49m\u001b[43m.\u001b[49m\u001b[43mcheck_response\u001b[49m\u001b[43m(\u001b[49m\u001b[43mresponse\u001b[49m\u001b[43m)\u001b[49m\n\u001b[32m    455\u001b[39m     response[\u001b[33m\"\u001b[39m\u001b[33mvalue\u001b[39m\u001b[33m\"\u001b[39m] = \u001b[38;5;28mself\u001b[39m._unwrap_value(response.get(\u001b[33m\"\u001b[39m\u001b[33mvalue\u001b[39m\u001b[33m\"\u001b[39m, \u001b[38;5;28;01mNone\u001b[39;00m))\n\u001b[32m    456\u001b[39m     \u001b[38;5;28;01mreturn\u001b[39;00m response\n",
      "\u001b[36mFile \u001b[39m\u001b[32m~\\AppData\\Roaming\\Python\\Python313\\site-packages\\selenium\\webdriver\\remote\\errorhandler.py:232\u001b[39m, in \u001b[36mErrorHandler.check_response\u001b[39m\u001b[34m(self, response)\u001b[39m\n\u001b[32m    230\u001b[39m         alert_text = value[\u001b[33m\"\u001b[39m\u001b[33malert\u001b[39m\u001b[33m\"\u001b[39m].get(\u001b[33m\"\u001b[39m\u001b[33mtext\u001b[39m\u001b[33m\"\u001b[39m)\n\u001b[32m    231\u001b[39m     \u001b[38;5;28;01mraise\u001b[39;00m exception_class(message, screen, stacktrace, alert_text)  \u001b[38;5;66;03m# type: ignore[call-arg]  # mypy is not smart enough here\u001b[39;00m\n\u001b[32m--> \u001b[39m\u001b[32m232\u001b[39m \u001b[38;5;28;01mraise\u001b[39;00m exception_class(message, screen, stacktrace)\n",
      "\u001b[31mNoSuchElementException\u001b[39m: Message: no such element: Unable to locate element: {\"method\":\"css selector\",\"selector\":\"[name=\"text\"]\"}\n  (Session info: chrome=138.0.7204.101); For documentation on this error, please visit: https://www.selenium.dev/documentation/webdriver/troubleshooting/errors#nosuchelementexception\nStacktrace:\n\tGetHandleVerifier [0x0x7ff6d63ce925+77845]\n\tGetHandleVerifier [0x0x7ff6d63ce980+77936]\n\t(No symbol) [0x0x7ff6d6189cda]\n\t(No symbol) [0x0x7ff6d61e06aa]\n\t(No symbol) [0x0x7ff6d61e095c]\n\t(No symbol) [0x0x7ff6d6233d07]\n\t(No symbol) [0x0x7ff6d620890f]\n\t(No symbol) [0x0x7ff6d6230b07]\n\t(No symbol) [0x0x7ff6d62086a3]\n\t(No symbol) [0x0x7ff6d61d1791]\n\t(No symbol) [0x0x7ff6d61d2523]\n\tGetHandleVerifier [0x0x7ff6d66a683d+3059501]\n\tGetHandleVerifier [0x0x7ff6d66a0bfd+3035885]\n\tGetHandleVerifier [0x0x7ff6d66c03f0+3164896]\n\tGetHandleVerifier [0x0x7ff6d63e8c2e+185118]\n\tGetHandleVerifier [0x0x7ff6d63f053f+216111]\n\tGetHandleVerifier [0x0x7ff6d63d72d4+113092]\n\tGetHandleVerifier [0x0x7ff6d63d7489+113529]\n\tGetHandleVerifier [0x0x7ff6d63be288+10616]\n\tBaseThreadInitThunk [0x0x7ff88d7ce8d7+23]\n\tRtlUserThreadStart [0x0x7ff88ee1c34c+44]\n"
     ]
    }
   ],
   "source": [
    "from selenium import webdriver\n",
    "from selenium.webdriver.common.by import By\n",
    "from selenium.webdriver.common.keys import Keys\n",
    "import time\n",
    "\n",
    "# Your Twitter credentials\n",
    "username = 'bhavyansh880'\n",
    "password = 'Prabhushreeramm'\n",
    "tweet_text = 'Tweeting without API using Python + Selenium! 🚀'\n",
    "\n",
    "# Setup Selenium (make sure you have chromedriver installed and in PATH)\n",
    "driver = webdriver.Chrome()  # or use Firefox, Edge, etc.\n",
    "\n",
    "try:\n",
    "    # Step 1: Go to Twitter login\n",
    "    driver.get('https://twitter.com/login')\n",
    "    time.sleep(3)\n",
    "\n",
    "    # Step 2: Fill in username\n",
    "    user_field = driver.find_element(By.NAME, 'text')\n",
    "    user_field.send_keys(username)\n",
    "    user_field.send_keys(Keys.RETURN)\n",
    "    time.sleep(3)\n",
    "\n",
    "    # Step 3: Fill in password\n",
    "    pwd_field = driver.find_element(By.NAME, 'password')\n",
    "    pwd_field.send_keys(password)\n",
    "    pwd_field.send_keys(Keys.RETURN)\n",
    "    time.sleep(5)\n",
    "\n",
    "    # Step 4: Find tweet box\n",
    "    tweet_box = driver.find_element(By.CSS_SELECTOR, 'div[aria-label=\"Tweet text\"]')\n",
    "    tweet_box.send_keys(tweet_text)\n",
    "    time.sleep(2)\n",
    "\n",
    "    # Step 5: Click the \"Tweet\" button\n",
    "    tweet_button = driver.find_element(By.XPATH, '//div[@data-testid=\"tweetButtonInline\"]')\n",
    "    tweet_button.click()\n",
    "    time.sleep(2)\n",
    "\n",
    "    print(\"✅ Tweet posted successfully!\")\n",
    "\n",
    "finally:\n",
    "    driver.quit()\n"
   ]
  },
  {
   "cell_type": "code",
   "execution_count": null,
   "id": "27989709-5277-469a-a1b8-28270627fd15",
   "metadata": {},
   "outputs": [],
   "source": []
  }
 ],
 "metadata": {
  "kernelspec": {
   "display_name": "Python 3 (ipykernel)",
   "language": "python",
   "name": "python3"
  },
  "language_info": {
   "codemirror_mode": {
    "name": "ipython",
    "version": 3
   },
   "file_extension": ".py",
   "mimetype": "text/x-python",
   "name": "python",
   "nbconvert_exporter": "python",
   "pygments_lexer": "ipython3",
   "version": "3.13.5"
  }
 },
 "nbformat": 4,
 "nbformat_minor": 5
}
