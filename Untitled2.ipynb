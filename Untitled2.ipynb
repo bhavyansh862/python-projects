{
 "cells": [
  {
   "cell_type": "code",
   "execution_count": 21,
   "id": "7a5f0a02-19d1-4749-8121-abba8f50021a",
   "metadata": {},
   "outputs": [
    {
     "data": {
      "text/plain": [
       "<Response [200]>"
      ]
     },
     "execution_count": 21,
     "metadata": {},
     "output_type": "execute_result"
    }
   ],
   "source": [
    "import requests\n",
    "\n",
    "api_key = 'YOUR_MAILJET_API_KEY'\n",
    "api_secret = 'YOUR_MAILJET_API_SECRET'\n",
    "\n",
    "url = \"https://api.mailjet.com/v3.1/send\"\n",
    "\n",
    "data = {\n",
    "  'Messages': [\n",
    "    {\n",
    "      \"From\": {\n",
    "        \"Email\": \"you@yourdomain.com\",\n",
    "        \"Name\": \"Bhavyansh Bot\"\n",
    "      },\n",
    "      \"To\": [\n",
    "        {\n",
    "          \"Email\": \"recipient@example.com\",\n",
    "          \"Name\": \"Receiver\"\n",
    "        }\n",
    "      ],\n",
    "      \"Subject\": \"Test Email via Mailjet API\",\n",
    "      \"TextPart\": \"Hello, this is an automated email sent via Mailjet API!\",\n",
    "    }\n",
    "  ]\n",
    "}\n",
    "\n",
    "response = requests.post(url, auth=(api_key, api_secret), json=data)\n",
    "print(\"✅ Sent!\" if response.status_code == 200 else \"❌ Error:\", response.text)\n"
   ]
  },
  {
   "cell_type": "code",
   "execution_count": null,
   "id": "1cb4135a-65bf-4189-9f97-f7bd4ff1b456",
   "metadata": {},
   "outputs": [],
   "source": []
  }
 ],
 "metadata": {
  "kernelspec": {
   "display_name": "Python 3 (ipykernel)",
   "language": "python",
   "name": "python3"
  },
  "language_info": {
   "codemirror_mode": {
    "name": "ipython",
    "version": 3
   },
   "file_extension": ".py",
   "mimetype": "text/x-python",
   "name": "python",
   "nbconvert_exporter": "python",
   "pygments_lexer": "ipython3",
   "version": "3.13.5"
  }
 },
 "nbformat": 4,
 "nbformat_minor": 5
}
