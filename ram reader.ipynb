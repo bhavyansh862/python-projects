{
 "cells": [
  {
   "cell_type": "code",
   "execution_count": 1,
   "id": "3158f6cd-4826-408f-90c9-a8d92a61cd70",
   "metadata": {},
   "outputs": [
    {
     "name": "stdout",
     "output_type": "stream",
     "text": [
      "Total RAM     : 11.77 GB\n",
      "Available RAM : 1.42 GB\n",
      "Used RAM      : 10.35 GB\n",
      "RAM Usage     : 87.9%\n"
     ]
    }
   ],
   "source": [
    "import psutil\n",
    "\n",
    "# Get virtual memory info\n",
    "ram = psutil.virtual_memory()\n",
    "\n",
    "# Print RAM details\n",
    "print(f\"Total RAM     : {ram.total / (1024 ** 3):.2f} GB\")\n",
    "print(f\"Available RAM : {ram.available / (1024 ** 3):.2f} GB\")\n",
    "print(f\"Used RAM      : {ram.used / (1024 ** 3):.2f} GB\")\n",
    "print(f\"RAM Usage     : {ram.percent}%\")\n"
   ]
  },
  {
   "cell_type": "code",
   "execution_count": null,
   "id": "23565bd9-5852-4322-9257-520b4f7a0b95",
   "metadata": {},
   "outputs": [],
   "source": []
  }
 ],
 "metadata": {
  "kernelspec": {
   "display_name": "Python 3 (ipykernel)",
   "language": "python",
   "name": "python3"
  },
  "language_info": {
   "codemirror_mode": {
    "name": "ipython",
    "version": 3
   },
   "file_extension": ".py",
   "mimetype": "text/x-python",
   "name": "python",
   "nbconvert_exporter": "python",
   "pygments_lexer": "ipython3",
   "version": "3.13.5"
  }
 },
 "nbformat": 4,
 "nbformat_minor": 5
}
