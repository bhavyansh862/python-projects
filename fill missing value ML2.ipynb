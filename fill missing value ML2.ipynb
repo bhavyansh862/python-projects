{
 "cells": [
  {
   "cell_type": "code",
   "execution_count": 10,
   "id": "21c92754-2273-4244-8208-a0e437074097",
   "metadata": {},
   "outputs": [
    {
     "name": "stdout",
     "output_type": "stream",
     "text": [
      "✅ Columns: ['X', 'Y']\n",
      "\n",
      "✅ Updated dataset:\n",
      "   X     Y\n",
      "0  1   2.0\n",
      "1  2   4.0\n",
      "2  3   6.0\n",
      "3  4   8.0\n",
      "4  5  10.0\n",
      "5  6  12.0\n",
      "6  7  14.0\n"
     ]
    }
   ],
   "source": [
    "import pandas as pd\n",
    "from sklearn.linear_model import LinearRegression\n",
    "\n",
    "# Skip the first row (line numbers), treat second row as header\n",
    "df = pd.read_csv('data.csv', skiprows=1)\n",
    "\n",
    "# Check column names\n",
    "print(\"✅ Columns:\", df.columns.tolist())\n",
    "\n",
    "# Ensure numeric types\n",
    "df['X'] = pd.to_numeric(df['X'], errors='coerce')\n",
    "df['Y'] = pd.to_numeric(df['Y'], errors='coerce')\n",
    "\n",
    "# Split known and missing\n",
    "df_missing = df[df['Y'].isnull()]\n",
    "df_known = df[df['Y'].notnull()]\n",
    "\n",
    "# Train model\n",
    "model = LinearRegression()\n",
    "model.fit(df_known[['X']], df_known['Y'])\n",
    "\n",
    "# Predict missing Y\n",
    "df.loc[df['Y'].isnull(), 'Y'] = model.predict(df_missing[['X']])\n",
    "\n",
    "# Final dataset\n",
    "print(\"\\n✅ Updated dataset:\")\n",
    "print(df)\n"
   ]
  },
  {
   "cell_type": "code",
   "execution_count": null,
   "id": "19b3ea56-6a71-4981-b3b0-f7b30ac0877f",
   "metadata": {},
   "outputs": [],
   "source": []
  },
  {
   "cell_type": "code",
   "execution_count": null,
   "id": "b008dc3c-5ea7-459b-aadd-883bc7c26e21",
   "metadata": {},
   "outputs": [],
   "source": []
  }
 ],
 "metadata": {
  "kernelspec": {
   "display_name": "Python 3 (ipykernel)",
   "language": "python",
   "name": "python3"
  },
  "language_info": {
   "codemirror_mode": {
    "name": "ipython",
    "version": 3
   },
   "file_extension": ".py",
   "mimetype": "text/x-python",
   "name": "python",
   "nbconvert_exporter": "python",
   "pygments_lexer": "ipython3",
   "version": "3.13.5"
  }
 },
 "nbformat": 4,
 "nbformat_minor": 5
}
