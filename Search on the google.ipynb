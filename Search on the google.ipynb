{
 "cells": [
  {
   "cell_type": "code",
   "execution_count": null,
   "id": "3158f6cd-4826-408f-90c9-a8d92a61cd70",
   "metadata": {},
   "outputs": [],
   "source": [
    "from googlesearch import search\n",
    "\n",
    "def fetch_top_search_results(query: str, num_results: int = 10):\n",
    "    \"\"\"\n",
    "    Fetches top Google search results as URLs.\n",
    "\n",
    "    Args:\n",
    "        query (str): The search query string.\n",
    "        num_results (int): Number of results to fetch.\n",
    "\n",
    "    Returns:\n",
    "        List[str]: List of result URLs.\n",
    "    \"\"\"\n",
    "    return list(search(query, num_results=num_results))\n",
    "\n",
    "def main():\n",
    "    query = input(\"🔍 Enter search query: \")\n",
    "    print(f\"\\nSearching Google for: {query!r}\\n\")\n",
    "    \n",
    "    results = fetch_top_search_results(query, num_results=10)\n",
    "    print(\"Top search results:\")\n",
    "    for idx, url in enumerate(results, 1):\n",
    "        print(f\"{idx}. {url}\")\n",
    "\n",
    "if __name__ == \"__main__\":\n",
    "    main()\n"
   ]
  },
  {
   "cell_type": "code",
   "execution_count": null,
   "id": "23565bd9-5852-4322-9257-520b4f7a0b95",
   "metadata": {},
   "outputs": [],
   "source": []
  }
 ],
 "metadata": {
  "kernelspec": {
   "display_name": "Python 3 (ipykernel)",
   "language": "python",
   "name": "python3"
  },
  "language_info": {
   "codemirror_mode": {
    "name": "ipython",
    "version": 3
   },
   "file_extension": ".py",
   "mimetype": "text/x-python",
   "name": "python",
   "nbconvert_exporter": "python",
   "pygments_lexer": "ipython3",
   "version": "3.13.5"
  }
 },
 "nbformat": 4,
 "nbformat_minor": 5
}
