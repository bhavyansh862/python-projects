{
 "cells": [
  {
   "cell_type": "code",
   "execution_count": 4,
   "id": "47cb9117-36f9-47f6-928f-6c41f40d45dc",
   "metadata": {},
   "outputs": [
    {
     "ename": "ModuleNotFoundError",
     "evalue": "No module named 'face_recognition'",
     "output_type": "error",
     "traceback": [
      "\u001b[31m---------------------------------------------------------------------------\u001b[39m",
      "\u001b[31mModuleNotFoundError\u001b[39m                       Traceback (most recent call last)",
      "\u001b[36mCell\u001b[39m\u001b[36m \u001b[39m\u001b[32mIn[4]\u001b[39m\u001b[32m, line 2\u001b[39m\n\u001b[32m      1\u001b[39m \u001b[38;5;28;01mimport\u001b[39;00m\u001b[38;5;250m \u001b[39m\u001b[34;01mcv2\u001b[39;00m\n\u001b[32m----> \u001b[39m\u001b[32m2\u001b[39m \u001b[38;5;28;01mimport\u001b[39;00m\u001b[38;5;250m \u001b[39m\u001b[34;01mface_recognition\u001b[39;00m\n\u001b[32m      3\u001b[39m \u001b[38;5;28;01mimport\u001b[39;00m\u001b[38;5;250m \u001b[39m\u001b[34;01mnumpy\u001b[39;00m\u001b[38;5;250m \u001b[39m\u001b[38;5;28;01mas\u001b[39;00m\u001b[38;5;250m \u001b[39m\u001b[34;01mnp\u001b[39;00m\n\u001b[32m      5\u001b[39m \u001b[38;5;66;03m# Load the images\u001b[39;00m\n",
      "\u001b[31mModuleNotFoundError\u001b[39m: No module named 'face_recognition'"
     ]
    }
   ],
   "source": [
    "import cv2\n",
    "import numpy as np\n",
    "import mediapipe as mp\n",
    "\n",
    "# Initialize MediaPipe Face Mesh\n",
    "mp_face_mesh = mp.solutions.face_mesh\n",
    "face_mesh = mp_face_mesh.FaceMesh(static_image_mode=True)\n",
    "\n",
    "def get_landmarks(img):\n",
    "    h, w = img.shape[:2]\n",
    "    results = face_mesh.process(cv2.cvtColor(img, cv2.COLOR_BGR2RGB))\n",
    "    if not results.multi_face_landmarks:\n",
    "        return None\n",
    "    landmarks = results.multi_face_landmarks[0].landmark\n",
    "    points = [(int(l.x * w), int(l.y * h)) for l in landmarks]\n",
    "    return points\n",
    "\n",
    "def extract_face(img, points):\n",
    "    mask = np.zeros_like(img)\n",
    "    hull = cv2.convexHull(np.array(points))\n",
    "    cv2.fillConvexPoly(mask, hull, (255, 255, 255))\n",
    "    return cv2.bitwise_and(img, mask)\n",
    "\n",
    "def swap_faces(img1, img2):\n",
    "    landmarks1 = get_landmarks(img1)\n",
    "    landmarks2 = get_landmarks(img2)\n",
    "    if not landmarks1 or not landmarks2:\n",
    "        print(\"Could not detect faces in one of the images.\")\n",
    "        return None, None\n",
    "\n",
    "    # Get convex hull for both\n",
    "    hull1 = cv2.convexHull(np.array(landmarks1)).squeeze()\n",
    "    hull2 = cv2.convexHull(np.array(landmarks2)).squeeze()\n",
    "\n",
    "    # Warp face 2 to face 1\n",
    "    rect = cv2.boundingRect(np.array(hull1))\n",
    "    (x, y, w, h) = rect\n",
    "    center = (x + w // 2, y + h // 2)\n",
    "    \n",
    "    # Compute affine transform and apply seamless cloning\n",
    "    warp_img = cv2.seamlessClone(\n",
    "        extract_face(img2, landmarks2),\n",
    "        img1,\n",
    "        cv2.cvtColor(extract_face(img2, landmarks2), cv2.COLOR_BGR2GRAY),\n",
    "        center,\n",
    "        cv2.NORMAL_CLONE\n",
    "    )\n",
    "\n",
    "    return warp_img\n",
    "\n",
    "# Load your images\n",
    "img1 = cv2.imread(\"face1.jpg\")\n",
    "img2 = cv2.imread(\"face2.jpg\")\n",
    "\n",
    "output = swap_faces(img1, img2)\n",
    "\n",
    "if output is not None:\n",
    "    cv2.imwrite(\"face_swap_result.jpg\", output)\n",
    "    cv2.imshow(\"Swapped Face\", output)\n",
    "    cv2.waitKey(0)\n",
    "    cv2.destroyAllWindows()\n"
   ]
  },
  {
   "cell_type": "code",
   "execution_count": null,
   "id": "128a71a4-adfa-46fb-875b-dcd1bcafe622",
   "metadata": {},
   "outputs": [],
   "source": []
  }
 ],
 "metadata": {
  "kernelspec": {
   "display_name": "Python 3 (ipykernel)",
   "language": "python",
   "name": "python3"
  },
  "language_info": {
   "codemirror_mode": {
    "name": "ipython",
    "version": 3
   },
   "file_extension": ".py",
   "mimetype": "text/x-python",
   "name": "python",
   "nbconvert_exporter": "python",
   "pygments_lexer": "ipython3",
   "version": "3.13.5"
  }
 },
 "nbformat": 4,
 "nbformat_minor": 5
}
