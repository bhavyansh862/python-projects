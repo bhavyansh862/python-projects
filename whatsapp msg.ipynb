{
 "cells": [
  {
   "cell_type": "code",
   "execution_count": 1,
   "id": "9caa2982-ed4f-476d-92f7-4245746eae65",
   "metadata": {},
   "outputs": [
    {
     "ename": "ModuleNotFoundError",
     "evalue": "No module named 'pywhatkit'",
     "output_type": "error",
     "traceback": [
      "\u001b[31m---------------------------------------------------------------------------\u001b[39m",
      "\u001b[31mModuleNotFoundError\u001b[39m                       Traceback (most recent call last)",
      "\u001b[36mCell\u001b[39m\u001b[36m \u001b[39m\u001b[32mIn[1]\u001b[39m\u001b[32m, line 1\u001b[39m\n\u001b[32m----> \u001b[39m\u001b[32m1\u001b[39m \u001b[38;5;28;01mimport\u001b[39;00m\u001b[38;5;250m \u001b[39m\u001b[34;01mpywhatkit\u001b[39;00m\u001b[38;5;250m \u001b[39m\u001b[38;5;28;01mas\u001b[39;00m\u001b[38;5;250m \u001b[39m\u001b[34;01mkit\u001b[39;00m\n\u001b[32m      2\u001b[39m \u001b[38;5;28;01mimport\u001b[39;00m\u001b[38;5;250m \u001b[39m\u001b[34;01mdatetime\u001b[39;00m\n\u001b[32m      3\u001b[39m \u001b[38;5;28;01mimport\u001b[39;00m\u001b[38;5;250m \u001b[39m\u001b[34;01mtime\u001b[39;00m\n",
      "\u001b[31mModuleNotFoundError\u001b[39m: No module named 'pywhatkit'"
     ]
    }
   ],
   "source": [
    "import pywhatkit as kit\n",
    "import datetime\n",
    "import time\n",
    "\n",
    "# Step 1: Get current time and set message time (1 minute later)\n",
    "now = datetime.datetime.now()\n",
    "send_hour = now.hour\n",
    "send_min = now.minute + 1\n",
    "\n",
    "# Step 2: Enter target WhatsApp number with country code\n",
    "target = \"+917877545397\"  # Replace with actual number\n",
    "\n",
    "# Step 3: Message to be sent\n",
    "message = \"Hello! This is an automated message sent from Python\"\n",
    "\n",
    "\n",
    "# Step 4: Send message\n",
    "kit.sendwhatmsg(\n",
    "    phone_no=target,\n",
    "    message=message,\n",
    "    time_hour=send_hour,\n",
    "    time_min=send_min,\n",
    "    wait_time=15,         # Time to wait for page to load before typing message\n",
    "    tab_close=True,       # Close tab after sending\n",
    "    close_time=5          # Time after which tab should close\n",
    ")\n",
    "\n",
    "print(\"Message will be sent at\", send_hour, \":\", send_min)"
   ]
  },
  {
   "cell_type": "code",
   "execution_count": null,
   "id": "fbe43f57-9223-4abd-a7f3-ceacf443a3b7",
   "metadata": {},
   "outputs": [],
   "source": []
  }
 ],
 "metadata": {
  "kernelspec": {
   "display_name": "Python 3 (ipykernel)",
   "language": "python",
   "name": "python3"
  },
  "language_info": {
   "codemirror_mode": {
    "name": "ipython",
    "version": 3
   },
   "file_extension": ".py",
   "mimetype": "text/x-python",
   "name": "python",
   "nbconvert_exporter": "python",
   "pygments_lexer": "ipython3",
   "version": "3.13.5"
  }
 },
 "nbformat": 4,
 "nbformat_minor": 5
}
