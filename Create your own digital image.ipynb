{
 "cells": [
  {
   "cell_type": "code",
   "execution_count": null,
   "id": "edb08d86-bf21-4211-b43a-523346bd36a7",
   "metadata": {},
   "outputs": [],
   "source": []
  }
 ],
 "metadata": {
  "kernelspec": {
   "display_name": "",
   "name": ""
  },
  "language_info": {
   "name": ""
  }
 },
 "nbformat": 4,
 "nbformat_minor": 5
}
