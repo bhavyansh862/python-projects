{
 "cells": [
  {
   "cell_type": "code",
   "execution_count": 21,
   "id": "b9237072-a8f3-4a62-b185-82f2341db61d",
   "metadata": {},
   "outputs": [
    {
     "data": {
      "text/plain": [
       "Media(pk=3672081884774839111, id='3672081884774839111_54830229823', code='DL12wTIJrNHs4MLr1PUxnsEALpvLDyFwR7tES80', taken_at=datetime.datetime(2025, 7, 8, 9, 18, 14, tzinfo=TzInfo(UTC)), media_type=1, image_versions2={'candidates': [{'estimated_scans_sizes': [21021, 42043, 63065, 84087, 105109, 117617, 149672, 170109, 189197], 'height': 1350, 'scans_profile': 'e35', 'url': 'https://instagram.fjai14-1.fna.fbcdn.net/v/t51.2885-15/516561590_17987918804829824_8407192047698045415_n.jpg?se=7&stp=dst-jpg_e35_tt6&efg=eyJ2ZW5jb2RlX3RhZyI6IkZFRUQuaW1hZ2VfdXJsZ2VuLjEwODB4MTM1MC5zZHIuZjgyNzg3LmRlZmF1bHRfaW1hZ2UifQ&_nc_ht=instagram.fjai14-1.fna.fbcdn.net&_nc_cat=108&_nc_oc=Q6cZ2QFvm4VcAYEgdaPc4xlwPqtObYMdQnXVzJ0-l6cFJfEi8-z1WoKKQiROv-nVhaKFfpQ6l93a-kAnaSmhql7BgzRY&_nc_ohc=afLupb8-ISUQ7kNvwEsmPKp&_nc_gid=FgLu44l4nzsz0DqEHtd9tg&edm=ACqnv0EBAAAA&ccb=7-5&ig_cache_key=MzY3MjA4MTg4NDc3NDgzOTExMQ%3D%3D.3-ccb7-5&oh=00_AfT-rKXo38uo3VQd1JMlGCf39vJOnXYTza8_Bcg2uLCQ1g&oe=6872ABBB&_nc_sid=7698e5', 'width': 1080}, {'estimated_scans_sizes': [3602, 7204, 10807, 14409, 18012, 21685, 625809, 32422, 32422], 'height': 450, 'scans_profile': 'e35', 'url': 'https://instagram.fjai14-1.fna.fbcdn.net/v/t51.2885-15/516561590_17987918804829824_8407192047698045415_n.jpg?stp=dst-jpg_e35_p360x360_tt6&efg=eyJ2ZW5jb2RlX3RhZyI6IkZFRUQuaW1hZ2VfdXJsZ2VuLjEwODB4MTM1MC5zZHIuZjgyNzg3LmRlZmF1bHRfaW1hZ2UifQ&_nc_ht=instagram.fjai14-1.fna.fbcdn.net&_nc_cat=108&_nc_oc=Q6cZ2QFvm4VcAYEgdaPc4xlwPqtObYMdQnXVzJ0-l6cFJfEi8-z1WoKKQiROv-nVhaKFfpQ6l93a-kAnaSmhql7BgzRY&_nc_ohc=afLupb8-ISUQ7kNvwEsmPKp&_nc_gid=FgLu44l4nzsz0DqEHtd9tg&edm=ACqnv0EBAAAA&ccb=7-5&ig_cache_key=MzY3MjA4MTg4NDc3NDgzOTExMQ%3D%3D.3-ccb7-5&oh=00_AfSnduPZPaQlEJfvu40onUmpg7qA4OF_q_UX-2xaWvrjTg&oe=6872ABBB&_nc_sid=7698e5', 'width': 360}]}, product_type='feed', thumbnail_url=HttpUrl('https://instagram.fjai14-1.fna.fbcdn.net/v/t51.2885-15/516561590_17987918804829824_8407192047698045415_n.jpg?se=7&stp=dst-jpg_e35_tt6&efg=eyJ2ZW5jb2RlX3RhZyI6IkZFRUQuaW1hZ2VfdXJsZ2VuLjEwODB4MTM1MC5zZHIuZjgyNzg3LmRlZmF1bHRfaW1hZ2UifQ&_nc_ht=instagram.fjai14-1.fna.fbcdn.net&_nc_cat=108&_nc_oc=Q6cZ2QFvm4VcAYEgdaPc4xlwPqtObYMdQnXVzJ0-l6cFJfEi8-z1WoKKQiROv-nVhaKFfpQ6l93a-kAnaSmhql7BgzRY&_nc_ohc=afLupb8-ISUQ7kNvwEsmPKp&_nc_gid=FgLu44l4nzsz0DqEHtd9tg&edm=ACqnv0EBAAAA&ccb=7-5&ig_cache_key=MzY3MjA4MTg4NDc3NDgzOTExMQ%3D%3D.3-ccb7-5&oh=00_AfT-rKXo38uo3VQd1JMlGCf39vJOnXYTza8_Bcg2uLCQ1g&oe=6872ABBB&_nc_sid=7698e5'), location=None, user=UserShort(pk='54830229823', username='_x_.bhvynxh.pvt.__', full_name='💀', profile_pic_url=HttpUrl('https://instagram.fjai14-1.fna.fbcdn.net/v/t51.2885-19/497027304_17981196692829824_2600805772846775690_n.jpg?stp=dst-jpg_e0_s150x150_tt6&_nc_ht=instagram.fjai14-1.fna.fbcdn.net&_nc_cat=108&_nc_oc=Q6cZ2QFvm4VcAYEgdaPc4xlwPqtObYMdQnXVzJ0-l6cFJfEi8-z1WoKKQiROv-nVhaKFfpQ6l93a-kAnaSmhql7BgzRY&_nc_ohc=e1exslbwuYgQ7kNvwGDLmXS&_nc_gid=FgLu44l4nzsz0DqEHtd9tg&edm=ACqnv0EBAAAA&ccb=7-5&oh=00_AfQN-t2td8Oe35g-vbn46zMhk3S6QCCE9Tsm8uKtVOimyA&oe=68729982&_nc_sid=7698e5'), profile_pic_url_hd=None, is_private=True), comment_count=0, comments_disabled=False, commenting_disabled_for_viewer=False, like_count=0, play_count=0, has_liked=False, caption_text='Hello from Python! 🚀 #python #automation', accessibility_caption=None, usertags=[], sponsor_tags=[], video_url=None, view_count=0, video_duration=0.0, title='', resources=[], clips_metadata={})"
      ]
     },
     "execution_count": 21,
     "metadata": {},
     "output_type": "execute_result"
    }
   ],
   "source": [
    "from instagrapi import Client\n",
    "\n",
    "username = \"xxxxxxxxxxxxxxx\"\n",
    "password = \"xxxxxxxxxxxxxxxxx\"\n",
    "\n",
    "cl = Client()\n",
    "cl.login(username, password)\n",
    "\n",
    "# Post image with a caption\n",
    "photo_path = photo_path = \"C:\\\\Users\\\\IT INFOTECH\\\\OneDrive\\\\Desktop\\\\BHAVYANSH\\\\bhavi.jpg.jpeg\"\n",
    "\n",
    "caption = \"Hello from Python! 🚀 #python #automation\"\n",
    "\n",
    "cl.photo_upload(photo_path, caption)\n"
   ]
  },
  {
   "cell_type": "code",
   "execution_count": null,
   "id": "3fd14d2f-e3a6-41f2-a2be-1558392dc0e4",
   "metadata": {},
   "outputs": [],
   "source": []
  }
 ],
 "metadata": {
  "kernelspec": {
   "display_name": "Python 3 (ipykernel)",
   "language": "python",
   "name": "python3"
  },
  "language_info": {
   "codemirror_mode": {
    "name": "ipython",
    "version": 3
   },
   "file_extension": ".py",
   "mimetype": "text/x-python",
   "name": "python",
   "nbconvert_exporter": "python",
   "pygments_lexer": "ipython3",
   "version": "3.13.5"
  }
 },
 "nbformat": 4,
 "nbformat_minor": 5
}
